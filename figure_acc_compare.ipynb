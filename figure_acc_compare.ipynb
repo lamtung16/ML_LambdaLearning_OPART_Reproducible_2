{
 "cells": [
  {
   "cell_type": "code",
   "execution_count": null,
   "metadata": {},
   "outputs": [],
   "source": [
    "from plotnine import ggplot, aes, geom_point, labs, facet_wrap, geom_vline, theme_minimal, theme, element_text\n",
    "import pandas as pd\n",
    "import ast"
   ]
  },
  {
   "cell_type": "code",
   "execution_count": null,
   "metadata": {},
   "outputs": [],
   "source": [
    "def get_print_df(df):\n",
    "    df['prefix_method'] = df['n_layer'].apply(lambda x: 'linear' if x == 0 else 'mlp')\n",
    "\n",
    "    # Create the 'method' column using string concatenation\n",
    "    df['method'] = (df['prefix_method'] + \".\" +\n",
    "                    df['n_features'].astype(str))\n",
    "\n",
    "    # Drop the unnecessary columns\n",
    "    new_df = df[['method', 'acc']]\n",
    "    return new_df"
   ]
  },
  {
   "cell_type": "code",
   "execution_count": null,
   "metadata": {},
   "outputs": [],
   "source": [
    "for dataset_name in ['cancer', 'detailed', 'systematic']:\n",
    "    # path\n",
    "    figures_path = 'figures/' + dataset_name + \"/\"\n",
    "    acc_rate_csv_path = 'acc_rate/' + dataset_name + '.csv'\n",
    "\n",
    "    # raw_df\n",
    "    raw_df = pd.read_csv(acc_rate_csv_path)\n",
    "\n",
    "    # create new columns named n_features\n",
    "    new_col = []\n",
    "    for i in range(raw_df.shape[0]):\n",
    "        new_col.append(len(ast.literal_eval(raw_df['features'].to_numpy()[i])))\n",
    "    df_n_features = pd.DataFrame(new_col, columns=['n_features'])\n",
    "\n",
    "    # full df\n",
    "    df = pd.concat([raw_df, df_n_features], axis=1)\n",
    "\n",
    "    # Initialize an empty list to store dataframes for each fold\n",
    "    df_fold_comparison_list = []\n",
    "\n",
    "    for fold in range(1, 7):\n",
    "        df_fold = df[df['fold']==fold]\n",
    "        df_fold_fengineer = df_fold[df_fold['f_engineer'] == 1]\n",
    "        df_fold_fengineer_linear = df_fold_fengineer[df_fold_fengineer['n_layer'] == 0]\n",
    "        df_fold_fengineer_mlp = df_fold_fengineer[df_fold_fengineer['n_layer'] != 0]\n",
    "        df_fold_fengineer_mlp_best_1 = df_fold_fengineer_mlp[df_fold_fengineer_mlp['n_features']==1].sort_values(by='acc', ascending=False).iloc[0:1]\n",
    "        df_fold_fengineer_mlp_best_2 = df_fold_fengineer_mlp[df_fold_fengineer_mlp['n_features']==2].sort_values(by='acc', ascending=False).iloc[0:1]\n",
    "        df_fold_fengineer_mlp_best_4 = df_fold_fengineer_mlp[df_fold_fengineer_mlp['n_features']==4].sort_values(by='acc', ascending=False).iloc[0:1]\n",
    "        df_fold_comparison = pd.concat([df_fold_fengineer_linear, df_fold_fengineer_mlp_best_1, df_fold_fengineer_mlp_best_2, df_fold_fengineer_mlp_best_4])\n",
    "        df_fold_comparison = get_print_df(df_fold_comparison)\n",
    "        df_fold_comparison['fold'] = 'fold' + str(fold) + '.test'\n",
    "        df_fold_comparison_list.append(df_fold_comparison)\n",
    "\n",
    "    # Concatenate all dataframes in the list into one dataframe\n",
    "    final_df = pd.concat(df_fold_comparison_list)\n",
    "\n",
    "    # plot\n",
    "    plot_combined = (ggplot(final_df, aes(x='acc', y='method')) +\n",
    "                    geom_point(shape=\"D\", size=2) +\n",
    "                    labs(title=\"dataset: \" + dataset_name,\n",
    "                        x=\"accuracy percentage\",\n",
    "                        y=\"method\") +\n",
    "                    facet_wrap('~fold', ncol=3) +\n",
    "                    geom_vline(xintercept=100, color=\"black\", size=1) +\n",
    "                    theme_minimal() +\n",
    "                    theme(legend_position='bottom', text=element_text(size=8)) +\n",
    "                    theme(aspect_ratio=0.7)\n",
    "                    )\n",
    "\n",
    "    # print(plot_combined)\n",
    "    plot_combined.save(figures_path + \"acc_comparison.pdf\", width=8, height=6)\n",
    "    plot_combined.save(figures_path + \"acc_comparison.jpg\", width=8, height=6)"
   ]
  }
 ],
 "metadata": {
  "kernelspec": {
   "display_name": "Python 3",
   "language": "python",
   "name": "python3"
  },
  "language_info": {
   "codemirror_mode": {
    "name": "ipython",
    "version": 3
   },
   "file_extension": ".py",
   "mimetype": "text/x-python",
   "name": "python",
   "nbconvert_exporter": "python",
   "pygments_lexer": "ipython3",
   "version": "3.11.8"
  }
 },
 "nbformat": 4,
 "nbformat_minor": 2
}
