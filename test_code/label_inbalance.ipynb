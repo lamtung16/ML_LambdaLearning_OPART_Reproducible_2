{
 "cells": [
  {
   "cell_type": "code",
   "execution_count": 1,
   "metadata": {},
   "outputs": [],
   "source": [
    "import pandas as pd\n",
    "import numpy as np"
   ]
  },
  {
   "cell_type": "code",
   "execution_count": 2,
   "metadata": {},
   "outputs": [],
   "source": [
    "def get_ratio_coef(list_stat):\n",
    "    max_num = max(list_stat)\n",
    "    return [0 if x == float('inf') or x == float('-inf') else x for x in max_num/list_stat]"
   ]
  },
  {
   "cell_type": "code",
   "execution_count": 5,
   "metadata": {},
   "outputs": [],
   "source": [
    "# df\n",
    "def get_stat(dataset):\n",
    "    print(f\"dataset: {dataset}\")\n",
    "    output_df = pd.read_csv('../training_data/' + dataset + '/outputs.csv')\n",
    "\n",
    "    # get stat\n",
    "    number_of_target_have_positive_inf = np.sum(output_df['max.log.lambda'].to_numpy() ==  np.inf)\n",
    "    number_of_target_have_negative_inf = np.sum(output_df['min.log.lambda'].to_numpy() == -np.inf)\n",
    "    number_of_target_have_all_inf      = np.sum(np.logical_and(output_df['min.log.lambda'].to_numpy() == -np.inf, output_df['max.log.lambda'].to_numpy() ==  np.inf))\n",
    "    number_of_target_have_no_inf       = np.sum(np.logical_and(output_df['min.log.lambda'].to_numpy() != -np.inf, output_df['max.log.lambda'].to_numpy() !=  np.inf))\n",
    "\n",
    "    # print stat\n",
    "    print(f\"number of targets:\\t\\t {output_df.shape[0]}\")\n",
    "    print(f\"number of targets have inf:\\t {number_of_target_have_positive_inf}\")\n",
    "    print(f\"number of targets have -inf:\\t {number_of_target_have_negative_inf}\")\n",
    "    print(f\"number of targets have all inf:\\t {number_of_target_have_all_inf}\")\n",
    "    print(f\"number of targets have no inf:\\t {number_of_target_have_no_inf}\")\n",
    "    print(f\"number of targets:\\t\\t {number_of_target_have_positive_inf + number_of_target_have_negative_inf - number_of_target_have_all_inf + number_of_target_have_no_inf}\")\n",
    "\n",
    "    # get ratio\n",
    "    print(f\"ratio: { get_ratio_coef([number_of_target_have_positive_inf, number_of_target_have_negative_inf, number_of_target_have_no_inf])}\\n\")"
   ]
  },
  {
   "cell_type": "code",
   "execution_count": 6,
   "metadata": {},
   "outputs": [
    {
     "name": "stdout",
     "output_type": "stream",
     "text": [
      "dataset: detailed\n",
      "number of targets:\t\t 3730\n",
      "number of targets have inf:\t 2886\n",
      "number of targets have -inf:\t 409\n",
      "number of targets have all inf:\t 6\n",
      "number of targets have no inf:\t 441\n",
      "number of targets:\t\t 3730\n",
      "ratio: [1.0, 7.056234718826406, 6.54421768707483]\n",
      "\n",
      "dataset: systematic\n",
      "number of targets:\t\t 3418\n",
      "number of targets have inf:\t 2845\n",
      "number of targets have -inf:\t 573\n",
      "number of targets have all inf:\t 0\n",
      "number of targets have no inf:\t 0\n",
      "number of targets:\t\t 3418\n",
      "ratio: [1.0, 4.965095986038395, 0]\n",
      "\n"
     ]
    },
    {
     "name": "stderr",
     "output_type": "stream",
     "text": [
      "C:\\Users\\nguye\\AppData\\Local\\Temp\\ipykernel_10680\\1840464337.py:3: RuntimeWarning: divide by zero encountered in divide\n",
      "  return [0 if x == float('inf') or x == float('-inf') else x for x in max_num/list_stat]\n"
     ]
    }
   ],
   "source": [
    "# dataset\n",
    "for dataset in ['detailed', 'systematic']:\n",
    "    get_stat(dataset)"
   ]
  }
 ],
 "metadata": {
  "kernelspec": {
   "display_name": "Python 3",
   "language": "python",
   "name": "python3"
  },
  "language_info": {
   "codemirror_mode": {
    "name": "ipython",
    "version": 3
   },
   "file_extension": ".py",
   "mimetype": "text/x-python",
   "name": "python",
   "nbconvert_exporter": "python",
   "pygments_lexer": "ipython3",
   "version": "3.11.8"
  }
 },
 "nbformat": 4,
 "nbformat_minor": 2
}
