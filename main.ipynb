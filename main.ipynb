{
 "cells": [
  {
   "cell_type": "code",
   "execution_count": 1,
   "metadata": {},
   "outputs": [],
   "source": [
    "import pandas as pd\n",
    "import numpy as np\n",
    "from joblib import Parallel, delayed\n",
    "\n",
    "from utility_functions import get_acc, record\n",
    "from BIC import BIC\n",
    "from MLP import mlp_evaluate"
   ]
  },
  {
   "cell_type": "code",
   "execution_count": 2,
   "metadata": {},
   "outputs": [],
   "source": [
    "# dataset\n",
    "dataset = 'detailed'\n",
    "\n",
    "# training data\n",
    "fold_path = 'training_data/' + dataset + '/folds.csv'\n",
    "inputs_path = 'training_data/' + dataset + '/inputs.csv'\n",
    "outputs_path = 'training_data/' + dataset + '/outputs.csv'\n",
    "evaluation_path = 'training_data/' + dataset + '/evaluation.csv'\n",
    "\n",
    "# writing accuracy rate path\n",
    "acc_rate_path = 'acc_rate/' + dataset + '.csv'\n",
    "\n",
    "# path to write df to csv\n",
    "output_df_path = 'record_dataframe/' + dataset + '/'\n",
    "\n",
    "# raw dfs\n",
    "fold_df = pd.read_csv(fold_path)\n",
    "inputs_df = pd.read_csv(inputs_path)\n",
    "outputs_df = pd.read_csv(outputs_path)\n",
    "evaluation_df = pd.read_csv(evaluation_path)\n",
    "\n",
    "# feature engineering transformation\n",
    "identity = lambda x: x\n",
    "log      = lambda x: np.log(x)\n",
    "loglog   = lambda x: np.log(np.log(x))"
   ]
  },
  {
   "cell_type": "code",
   "execution_count": 3,
   "metadata": {},
   "outputs": [],
   "source": [
    "# raw dfs\n",
    "fold = 1\n",
    "\n",
    "# fold dfs\n",
    "fold_inputs_df = inputs_df[inputs_df['sequenceID'].isin(fold_df[fold_df['fold'] == fold]['sequenceID'])]\n",
    "fold_outputs_df = outputs_df[outputs_df['sequenceID'].isin(fold_df[fold_df['fold'] == fold]['sequenceID'])]\n",
    "fold_eval_df = evaluation_df[evaluation_df['sequenceID'].isin(fold_df[fold_df['fold'] == fold]['sequenceID'])]"
   ]
  },
  {
   "cell_type": "code",
   "execution_count": 4,
   "metadata": {},
   "outputs": [
    {
     "name": "stdout",
     "output_type": "stream",
     "text": [
      "85.10928961748634\n"
     ]
    }
   ],
   "source": [
    "# BIC\n",
    "lldas_test_df_BIC = BIC(fold_inputs_df)\n",
    "print(get_acc(fold_eval_df, lldas_test_df_BIC))"
   ]
  },
  {
   "cell_type": "code",
   "execution_count": 5,
   "metadata": {},
   "outputs": [
    {
     "name": "stdout",
     "output_type": "stream",
     "text": [
      "92.62295081967213\n"
     ]
    }
   ],
   "source": [
    "# HYPER\n",
    "n_layer = 0\n",
    "layer_size = 1\n",
    "chosen_feature = ['length']\n",
    "f_engineer = [loglog]\n",
    "normalize = 0\n",
    "\n",
    "lldas_test_df_linear = mlp_evaluate(\n",
    "    input_train_df = fold_inputs_df,\n",
    "    output_train_df = fold_outputs_df,\n",
    "    inputs_val_df = fold_inputs_df,\n",
    "    hidden_layers = n_layer,\n",
    "    hidden_size = layer_size,\n",
    "    chosen_feature = chosen_feature,\n",
    "    f_engineer = f_engineer,\n",
    "    normalize = normalize\n",
    ")\n",
    "print(get_acc(fold_eval_df, lldas_test_df_linear))"
   ]
  },
  {
   "cell_type": "code",
   "execution_count": 9,
   "metadata": {},
   "outputs": [
    {
     "name": "stdout",
     "output_type": "stream",
     "text": [
      "95.08196721311475\n"
     ]
    }
   ],
   "source": [
    "# HYPER\n",
    "n_layer = 0\n",
    "layer_size = 1\n",
    "chosen_feature = ['length', 'sd']\n",
    "f_engineer = [log, log]\n",
    "normalize = 0\n",
    "\n",
    "lldas_test_df_linear = mlp_evaluate(\n",
    "    input_train_df = fold_inputs_df,\n",
    "    output_train_df = fold_outputs_df,\n",
    "    inputs_val_df = fold_inputs_df,\n",
    "    hidden_layers = n_layer,\n",
    "    hidden_size = layer_size,\n",
    "    chosen_feature = chosen_feature,\n",
    "    f_engineer = f_engineer,\n",
    "    normalize = normalize\n",
    ")\n",
    "print(get_acc(fold_eval_df, lldas_test_df_linear))"
   ]
  },
  {
   "cell_type": "code",
   "execution_count": 10,
   "metadata": {},
   "outputs": [
    {
     "name": "stdout",
     "output_type": "stream",
     "text": [
      "95.08196721311475\n"
     ]
    }
   ],
   "source": [
    "# HYPER\n",
    "n_layer = 0\n",
    "layer_size = 1\n",
    "chosen_feature = ['length', 'sd']\n",
    "f_engineer = [loglog, log]\n",
    "normalize = 0\n",
    "\n",
    "lldas_test_df_linear = mlp_evaluate(\n",
    "    input_train_df = fold_inputs_df,\n",
    "    output_train_df = fold_outputs_df,\n",
    "    inputs_val_df = fold_inputs_df,\n",
    "    hidden_layers = n_layer,\n",
    "    hidden_size = layer_size,\n",
    "    chosen_feature = chosen_feature,\n",
    "    f_engineer = f_engineer,\n",
    "    normalize = normalize\n",
    ")\n",
    "print(get_acc(fold_eval_df, lldas_test_df_linear))"
   ]
  },
  {
   "cell_type": "code",
   "execution_count": 7,
   "metadata": {},
   "outputs": [
    {
     "name": "stdout",
     "output_type": "stream",
     "text": [
      "96.58469945355192\n"
     ]
    }
   ],
   "source": [
    "# HYPER\n",
    "n_layer = 1\n",
    "layer_size = 8\n",
    "chosen_feature = ['sd', 'range_value', 'length', 'sum_diff']\n",
    "f_engineer = [log, log, loglog, log]\n",
    "normalize = 1\n",
    "\n",
    "lldas_test_df_linear = mlp_evaluate(\n",
    "    input_train_df = fold_inputs_df,\n",
    "    output_train_df = fold_outputs_df,\n",
    "    inputs_val_df = fold_inputs_df,\n",
    "    hidden_layers = n_layer,\n",
    "    hidden_size = layer_size,\n",
    "    chosen_feature = chosen_feature,\n",
    "    f_engineer = f_engineer,\n",
    "    normalize = normalize\n",
    ")\n",
    "print(get_acc(fold_eval_df, lldas_test_df_linear))"
   ]
  }
 ],
 "metadata": {
  "kernelspec": {
   "display_name": "Python 3",
   "language": "python",
   "name": "python3"
  },
  "language_info": {
   "codemirror_mode": {
    "name": "ipython",
    "version": 3
   },
   "file_extension": ".py",
   "mimetype": "text/x-python",
   "name": "python",
   "nbconvert_exporter": "python",
   "pygments_lexer": "ipython3",
   "version": "3.11.8"
  }
 },
 "nbformat": 4,
 "nbformat_minor": 2
}
