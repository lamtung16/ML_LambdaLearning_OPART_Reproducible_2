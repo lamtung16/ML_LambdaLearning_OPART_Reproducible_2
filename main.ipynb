{
 "cells": [
  {
   "cell_type": "code",
   "execution_count": 1,
   "metadata": {},
   "outputs": [],
   "source": [
    "import pandas as pd\n",
    "import numpy as np\n",
    "from joblib import Parallel, delayed\n",
    "\n",
    "from utility_functions import get_acc, record, add_row_to_csv\n",
    "from BIC import BIC\n",
    "from MLP import mlp_evaluate"
   ]
  },
  {
   "cell_type": "code",
   "execution_count": 2,
   "metadata": {},
   "outputs": [],
   "source": [
    "# dataset\n",
    "dataset = 'detailed'\n",
    "\n",
    "# training data\n",
    "fold_path = 'training_data/' + dataset + '/folds.csv'\n",
    "inputs_path = 'training_data/' + dataset + '/inputs.csv'\n",
    "outputs_path = 'training_data/' + dataset + '/outputs.csv'\n",
    "evaluation_path = 'training_data/' + dataset + '/evaluation.csv'\n",
    "\n",
    "# writing accuracy rate path\n",
    "acc_rate_path = 'acc_rate/' + dataset + '.csv'\n",
    "\n",
    "# path to write df to csv\n",
    "output_df_path = 'record_dataframe/' + dataset + '/'\n",
    "\n",
    "# raw dfs\n",
    "fold_df = pd.read_csv(fold_path)\n",
    "inputs_df = pd.read_csv(inputs_path)\n",
    "outputs_df = pd.read_csv(outputs_path)\n",
    "evaluation_df = pd.read_csv(evaluation_path)\n",
    "\n",
    "# feature engineering transformation\n",
    "identity = lambda x: x\n",
    "log      = lambda x: np.log(x)\n",
    "loglog   = lambda x: np.log(np.log(x))"
   ]
  },
  {
   "cell_type": "code",
   "execution_count": 3,
   "metadata": {},
   "outputs": [],
   "source": [
    "def get_fold_dfs(fold):\n",
    "    train_inputs_df = inputs_df[inputs_df['sequenceID'].isin(fold_df[fold_df['fold'] == fold]['sequenceID'])]\n",
    "    train_outputs_df = outputs_df[outputs_df['sequenceID'].isin(fold_df[fold_df['fold'] == fold]['sequenceID'])]\n",
    "    train_eval_df = evaluation_df[evaluation_df['sequenceID'].isin(fold_df[fold_df['fold'] == fold]['sequenceID'])]\n",
    "    test_inputs_df = inputs_df[inputs_df['sequenceID'].isin(fold_df[fold_df['fold'] != fold]['sequenceID'])]\n",
    "    test_eval_df = evaluation_df[evaluation_df['sequenceID'].isin(fold_df[fold_df['fold'] != fold]['sequenceID'])]\n",
    "    return train_inputs_df, train_outputs_df, train_eval_df, test_inputs_df, test_eval_df\n",
    "    "
   ]
  },
  {
   "cell_type": "code",
   "execution_count": 5,
   "metadata": {},
   "outputs": [],
   "source": [
    "def process_combination(fold, n_layer, layer_size, feature_dict, normalize):\n",
    "    train_inputs_df, train_outputs_df, train_eval_df, test_inputs_df, test_eval_df = get_fold_dfs(fold)\n",
    "    chosen_feature = feature_dict['chosen_feature']\n",
    "    f_engineer = feature_dict['f_engineer']\n",
    "    is_f_engineer = 1 if f_engineer[0] != identity else 0\n",
    "    lldas_test_df = mlp_evaluate(\n",
    "        input_train_df=train_inputs_df,\n",
    "        output_train_df=train_outputs_df,\n",
    "        inputs_val_df=train_inputs_df,\n",
    "        hidden_layers=n_layer,\n",
    "        hidden_size=layer_size,\n",
    "        chosen_feature=chosen_feature,\n",
    "        f_engineer=f_engineer,\n",
    "        normalize=normalize\n",
    "    )\n",
    "    acc = get_acc(train_eval_df, lldas_test_df)\n",
    "    return [fold, n_layer, layer_size, chosen_feature, is_f_engineer, normalize, acc]"
   ]
  },
  {
   "cell_type": "code",
   "execution_count": 6,
   "metadata": {},
   "outputs": [],
   "source": [
    "fold_list = [1, 2, 3, 4, 5, 6]\n",
    "n_layer_list = [1, 2, 3]\n",
    "layer_size_list = [2, 4, 8, 16, 32, 64, 128]\n",
    "feature_dict_list = [\n",
    "    {'chosen_feature': ['length'], 'f_engineer': [loglog]},\n",
    "    {'chosen_feature': ['length'], 'f_engineer': [identity]},\n",
    "    {'chosen_feature': ['length', 'sd'], 'f_engineer': [loglog, log]},\n",
    "    {'chosen_feature': ['length', 'sd'], 'f_engineer': [identity, identity]},\n",
    "    {'chosen_feature': ['sd', 'range_value', 'length', 'sum_diff'], 'f_engineer': [log, log, loglog, log]},\n",
    "    {'chosen_feature': ['sd', 'range_value', 'length', 'sum_diff'], 'f_engineer': [identity, identity, identity, identity]}\n",
    "]"
   ]
  },
  {
   "cell_type": "code",
   "execution_count": 7,
   "metadata": {},
   "outputs": [],
   "source": [
    "# linear\n",
    "linear_results = Parallel(n_jobs=-1)(\n",
    "    delayed(process_combination)(\n",
    "        fold, 0, 1, feature_dict, 0\n",
    "    ) for fold in range(1, 7)\n",
    "    for feature_dict in feature_dict_list\n",
    ")\n",
    "\n",
    "# Write results to CSV\n",
    "for row in linear_results:\n",
    "    add_row_to_csv(acc_rate_path, ['fold', 'n_layer', 'layer_size', 'features', 'f_engineer', 'normalize', 'acc'], row)"
   ]
  },
  {
   "cell_type": "code",
   "execution_count": 8,
   "metadata": {},
   "outputs": [],
   "source": [
    "# non linear\n",
    "mlp_results = Parallel(n_jobs=-1)(\n",
    "    delayed(process_combination)(\n",
    "        fold, n_layer, layer_size, feature_dict, 1\n",
    "    ) for fold in fold_list\n",
    "    for n_layer in n_layer_list\n",
    "    for layer_size in layer_size_list\n",
    "    for feature_dict in feature_dict_list\n",
    ")\n",
    "\n",
    "# Write results to CSV\n",
    "for row in mlp_results:\n",
    "    add_row_to_csv(acc_rate_path, ['fold', 'n_layer', 'layer_size', 'features', 'f_engineer', 'normalize', 'acc'], row)"
   ]
  },
  {
   "cell_type": "code",
   "execution_count": 9,
   "metadata": {},
   "outputs": [],
   "source": [
    "# for fold in range(1, 7):\n",
    "#     for n_layer in n_layer_list:\n",
    "#         for layer_size in layer_size_list:\n",
    "#             for feature_dict in feature_dict_list:\n",
    "#                 for normalize in normalize_list:\n",
    "#                     train_inputs_df, train_outputs_df, train_eval_df, test_inputs_df, test_eval_df = get_fold_dfs(fold)\n",
    "#                     chosen_feature = feature_dict['chosen_feature']\n",
    "#                     f_engineer = feature_dict['f_engineer']\n",
    "#                     is_f_engineer = 1\n",
    "#                     if f_engineer[0] == identity:\n",
    "#                         is_f_engineer = 0\n",
    "#                     lldas_test_df = mlp_evaluate(\n",
    "#                         input_train_df = train_inputs_df,\n",
    "#                         output_train_df = train_outputs_df,\n",
    "#                         inputs_val_df = train_inputs_df,\n",
    "#                         hidden_layers = n_layer,\n",
    "#                         hidden_size = layer_size,\n",
    "#                         chosen_feature = chosen_feature,\n",
    "#                         f_engineer = f_engineer,\n",
    "#                         normalize = normalize,\n",
    "#                         n_ites=1\n",
    "#                         )\n",
    "#                     row = [fold, n_layer, layer_size, chosen_feature, is_f_engineer, normalize, get_acc(train_eval_df, lldas_test_df)]\n",
    "#                     add_row_to_csv(acc_rate_path, ['fold', 'n_layer', 'layer_size', 'features', 'f_engineer', 'normalize', 'acc'], row)"
   ]
  },
  {
   "cell_type": "code",
   "execution_count": 10,
   "metadata": {},
   "outputs": [],
   "source": [
    "# # BIC\n",
    "# lldas_test_df_BIC = BIC(fold_inputs_df)\n",
    "# print(get_acc(fold_eval_df, lldas_test_df_BIC))\n",
    "# 85.10928961748634"
   ]
  },
  {
   "cell_type": "code",
   "execution_count": 11,
   "metadata": {},
   "outputs": [],
   "source": [
    "# # HYPER\n",
    "# n_layer = 0\n",
    "# layer_size = 1\n",
    "# chosen_feature = ['length']\n",
    "# f_engineer = [loglog]\n",
    "# normalize = 0\n",
    "\n",
    "# lldas_test_df_linear = mlp_evaluate(\n",
    "#     input_train_df = fold_inputs_df,\n",
    "#     output_train_df = fold_outputs_df,\n",
    "#     inputs_val_df = fold_inputs_df,\n",
    "#     hidden_layers = n_layer,\n",
    "#     hidden_size = layer_size,\n",
    "#     chosen_feature = chosen_feature,\n",
    "#     f_engineer = f_engineer,\n",
    "#     normalize = normalize\n",
    "# )\n",
    "# print(get_acc(fold_eval_df, lldas_test_df_linear))\n",
    "# 92.62295081967213"
   ]
  },
  {
   "cell_type": "code",
   "execution_count": 12,
   "metadata": {},
   "outputs": [],
   "source": [
    "# # HYPER\n",
    "# n_layer = 0\n",
    "# layer_size = 1\n",
    "# chosen_feature = ['length', 'sd']\n",
    "# f_engineer = [log, log]\n",
    "# normalize = 0\n",
    "\n",
    "# lldas_test_df_linear = mlp_evaluate(\n",
    "#     input_train_df = fold_inputs_df,\n",
    "#     output_train_df = fold_outputs_df,\n",
    "#     inputs_val_df = fold_inputs_df,\n",
    "#     hidden_layers = n_layer,\n",
    "#     hidden_size = layer_size,\n",
    "#     chosen_feature = chosen_feature,\n",
    "#     f_engineer = f_engineer,\n",
    "#     normalize = normalize\n",
    "# )\n",
    "# print(get_acc(fold_eval_df, lldas_test_df_linear))\n",
    "# 95.08196721311475"
   ]
  },
  {
   "cell_type": "code",
   "execution_count": 13,
   "metadata": {},
   "outputs": [],
   "source": [
    "# # HYPER\n",
    "# n_layer = 0\n",
    "# layer_size = 1\n",
    "# chosen_feature = ['length', 'sd']\n",
    "# f_engineer = [loglog, log]\n",
    "# normalize = 0\n",
    "\n",
    "# lldas_test_df_linear = mlp_evaluate(\n",
    "#     input_train_df = fold_inputs_df,\n",
    "#     output_train_df = fold_outputs_df,\n",
    "#     inputs_val_df = fold_inputs_df,\n",
    "#     hidden_layers = n_layer,\n",
    "#     hidden_size = layer_size,\n",
    "#     chosen_feature = chosen_feature,\n",
    "#     f_engineer = f_engineer,\n",
    "#     normalize = normalize\n",
    "# )\n",
    "# print(get_acc(fold_eval_df, lldas_test_df_linear))\n",
    "# 95.08196721311475"
   ]
  },
  {
   "cell_type": "code",
   "execution_count": 14,
   "metadata": {},
   "outputs": [],
   "source": [
    "# # HYPER\n",
    "# n_layer = 1\n",
    "# layer_size = 8\n",
    "# chosen_feature = ['sd', 'range_value', 'length', 'sum_diff']\n",
    "# f_engineer = [log, log, loglog, log]\n",
    "# normalize = 1\n",
    "\n",
    "# lldas_test_df_linear = mlp_evaluate(\n",
    "#     input_train_df = fold_inputs_df,\n",
    "#     output_train_df = fold_outputs_df,\n",
    "#     inputs_val_df = fold_inputs_df,\n",
    "#     hidden_layers = n_layer,\n",
    "#     hidden_size = layer_size,\n",
    "#     chosen_feature = chosen_feature,\n",
    "#     f_engineer = f_engineer,\n",
    "#     normalize = normalize\n",
    "# )\n",
    "# print(get_acc(fold_eval_df, lldas_test_df_linear))\n",
    "# 96.58469945355192"
   ]
  }
 ],
 "metadata": {
  "kernelspec": {
   "display_name": "Python 3",
   "language": "python",
   "name": "python3"
  },
  "language_info": {
   "codemirror_mode": {
    "name": "ipython",
    "version": 3
   },
   "file_extension": ".py",
   "mimetype": "text/x-python",
   "name": "python",
   "nbconvert_exporter": "python",
   "pygments_lexer": "ipython3",
   "version": "3.11.8"
  }
 },
 "nbformat": 4,
 "nbformat_minor": 2
}
