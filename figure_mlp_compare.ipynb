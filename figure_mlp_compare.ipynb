{
 "cells": [
  {
   "cell_type": "code",
   "execution_count": null,
   "metadata": {},
   "outputs": [],
   "source": [
    "from plotnine import ggplot, aes, geom_point, labs, facet_wrap, geom_vline, theme_minimal, theme, element_text, geom_line, scale_x_continuous, ggtitle, xlab\n",
    "import pandas as pd\n",
    "import ast"
   ]
  },
  {
   "cell_type": "code",
   "execution_count": null,
   "metadata": {},
   "outputs": [],
   "source": [
    "for dataset_name in ['detailed', 'systematic']:\n",
    "\n",
    "    figures_path = 'figures/' + dataset_name + \"/\"\n",
    "    acc_rate_csv_path = 'acc_rate/' + dataset_name + '.csv'\n",
    "\n",
    "    # raw_df\n",
    "    raw_df = pd.read_csv(acc_rate_csv_path)\n",
    "\n",
    "    # create new columns named n_features\n",
    "    new_col = []\n",
    "    for i in range(raw_df.shape[0]):\n",
    "        new_col.append(len(ast.literal_eval(raw_df['features'].to_numpy()[i])) + 1)\n",
    "    df_n_features = pd.DataFrame(new_col, columns=['n_features'])\n",
    "\n",
    "    # full df\n",
    "    df = pd.concat([raw_df, df_n_features], axis=1)\n",
    "\n",
    "\n",
    "    for n_layer in [1, 2, 3]:\n",
    "        for n_features in [2, 3, 5]:\n",
    "            df_fold = df\n",
    "            df_fold_compare = df_fold[df_fold['n_layer'] == n_layer]\n",
    "            df_fold_compare = df_fold_compare[df_fold_compare['n_features'] == n_features]\n",
    "            df_fold_compare = df_fold_compare[df_fold_compare['f_engineer'] == 1]\n",
    "            df_fold_compare = df_fold_compare[['fold', 'layer_size', 'acc']]\n",
    "\n",
    "            plot = (\n",
    "                ggplot(df_fold_compare, aes(x=pd.Categorical(df_fold_compare['layer_size']), y='acc')) +\n",
    "                geom_line(aes(group=1)) +\n",
    "                labs(title=\"dataset: \" + dataset_name + \" --- \" + str(n_layer) + \" hidden layer --- \" + str(n_features) + \" features\",\n",
    "                    x=\"hidden layer size\",\n",
    "                    y=\"acc percentage\") +\n",
    "                theme_minimal() + \n",
    "                facet_wrap('~fold', ncol=3) + \n",
    "                theme(plot_title=element_text(size=10))\n",
    "            )\n",
    "\n",
    "            # Display the plot\n",
    "            plot.save(figures_path + \"mlp_\" + str(n_layer) + \"_layers_\" + str(n_features-1) + \"_features.pdf\", width=8, height=6)\n",
    "            plot.save(figures_path + \"mlp_\" + str(n_layer) + \"_layers_\" + str(n_features-1) + \"_features.jpg\", width=8, height=6)"
   ]
  }
 ],
 "metadata": {
  "kernelspec": {
   "display_name": "Python 3",
   "language": "python",
   "name": "python3"
  },
  "language_info": {
   "codemirror_mode": {
    "name": "ipython",
    "version": 3
   },
   "file_extension": ".py",
   "mimetype": "text/x-python",
   "name": "python",
   "nbconvert_exporter": "python",
   "pygments_lexer": "ipython3",
   "version": "3.11.8"
  }
 },
 "nbformat": 4,
 "nbformat_minor": 2
}
