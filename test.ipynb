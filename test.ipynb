{
 "cells": [
  {
   "cell_type": "code",
   "execution_count": 7,
   "metadata": {},
   "outputs": [],
   "source": [
    "import pandas as pd\n",
    "import numpy as np\n",
    "\n",
    "from utility_functions import get_acc\n",
    "from BIC import BIC\n",
    "from linear import linear_evaluate"
   ]
  },
  {
   "cell_type": "code",
   "execution_count": 8,
   "metadata": {},
   "outputs": [],
   "source": [
    "# PATHs (edit these paths depending on dataset)\n",
    "dataset = 'detailed'\n",
    "\n",
    "# training data\n",
    "inputs_path = 'training_data/' + dataset + '/inputs.csv'\n",
    "outputs_path = 'training_data/' + dataset + '/outputs.csv'\n",
    "evaluation_path = 'training_data/' + dataset + '/evaluation.csv'\n",
    "\n",
    "# raw dfs\n",
    "inputs_df = pd.read_csv(inputs_path)\n",
    "outputs_df = pd.read_csv(outputs_path)\n",
    "evaluation_df = pd.read_csv(evaluation_path)\n",
    "\n",
    "# fold dfs\n",
    "fold_size = int(inputs_df.shape[0]/2)\n",
    "inputs_fold1_df = inputs_df[0:fold_size]\n",
    "inputs_fold2_df = inputs_df[fold_size:]\n",
    "outputs_fold1_df = outputs_df[0:fold_size]\n",
    "outputs_fold2_df = outputs_df[fold_size:]\n",
    "evaluation_fold1_df = evaluation_df[evaluation_df['sequenceID'].isin(inputs_fold1_df['sequenceID'])]\n",
    "evaluation_fold2_df = evaluation_df[evaluation_df['sequenceID'].isin(inputs_fold2_df['sequenceID'])]"
   ]
  }
 ],
 "metadata": {
  "kernelspec": {
   "display_name": "Python 3",
   "language": "python",
   "name": "python3"
  },
  "language_info": {
   "codemirror_mode": {
    "name": "ipython",
    "version": 3
   },
   "file_extension": ".py",
   "mimetype": "text/x-python",
   "name": "python",
   "nbconvert_exporter": "python",
   "pygments_lexer": "ipython3",
   "version": "3.11.8"
  }
 },
 "nbformat": 4,
 "nbformat_minor": 2
}
