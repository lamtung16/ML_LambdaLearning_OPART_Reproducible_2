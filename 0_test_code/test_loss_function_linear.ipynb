{
 "cells": [
  {
   "cell_type": "code",
   "execution_count": 1,
   "metadata": {},
   "outputs": [],
   "source": [
    "import torch\n",
    "import torch.nn as nn\n",
    "import torch.nn.init as init\n",
    "import torch.optim as optim\n",
    "import numpy as np\n",
    "import pandas as pd\n",
    "from sklearn.model_selection import KFold\n",
    "from utility_functions import SquaredHingeLoss\n",
    "from torch.utils.data import DataLoader, TensorDataset\n",
    "import matplotlib.pyplot as plt"
   ]
  },
  {
   "cell_type": "code",
   "execution_count": 2,
   "metadata": {},
   "outputs": [],
   "source": [
    "# Define the MLP model\n",
    "class MLPModel(nn.Module):\n",
    "    def __init__(self, input_size, hidden_layers, hidden_size):\n",
    "        super(MLPModel, self).__init__()\n",
    "        self.input_size = input_size\n",
    "        self.hidden_layers = hidden_layers\n",
    "\n",
    "        self.linear_model = nn.Linear(input_size, 1) \n",
    "        \n",
    "        self.hidden_size = hidden_size\n",
    "        self.input_layer = nn.Linear(input_size, hidden_size)\n",
    "        self.hidden = nn.ModuleList([nn.Linear(hidden_size, hidden_size) for _ in range(hidden_layers - 1)])\n",
    "        self.output_layer = nn.Linear(hidden_size, 1)\n",
    "        \n",
    "        self.initialize_parameters()\n",
    "\n",
    "    def initialize_parameters(self):\n",
    "        for param in self.parameters():\n",
    "            init.constant_(param, 0)\n",
    "\n",
    "    def forward(self, x):\n",
    "        if(self.hidden_layers == 0):\n",
    "            return self.linear_model(x)\n",
    "        else:\n",
    "            x = torch.relu(self.input_layer(x))\n",
    "            for layer in self.hidden:\n",
    "                x = torch.relu(layer(x))\n",
    "            x = self.output_layer(x)\n",
    "            return x"
   ]
  },
  {
   "cell_type": "code",
   "execution_count": 3,
   "metadata": {},
   "outputs": [],
   "source": [
    "# normalzie\n",
    "def normalize_data(tensor):\n",
    "    mean = torch.mean(tensor, dim=0)\n",
    "    std = torch.std(tensor, dim=0)\n",
    "    normalized_tensor = (tensor - mean) / std\n",
    "    return normalized_tensor"
   ]
  },
  {
   "cell_type": "code",
   "execution_count": 4,
   "metadata": {},
   "outputs": [],
   "source": [
    "# learn model\n",
    "def mlp_training(inputs_df, outputs_df, hidden_layers, hidden_size, chosen_feature, f_engineer, normalize, batch_size, margin, n_ites, lr, patience, verbose, epoch_step):\n",
    "    # inputs\n",
    "    inputs = inputs_df[chosen_feature].to_numpy()\n",
    "\n",
    "    # feature engineering\n",
    "    for i in range(len(f_engineer)):\n",
    "        inputs[:, i] = f_engineer[i](inputs[:, i])\n",
    "    inputs = torch.Tensor(inputs)\n",
    "\n",
    "    # normalize input\n",
    "    if normalize == 1:\n",
    "        inputs = normalize_data(inputs)\n",
    "\n",
    "    # outputs\n",
    "    targets_low  = torch.Tensor(outputs_df['min.log.lambda'].to_numpy().reshape(-1,1))\n",
    "    targets_high = torch.Tensor(outputs_df['max.log.lambda'].to_numpy().reshape(-1,1))\n",
    "    outputs = torch.cat((targets_low, targets_high), dim=1)\n",
    "\n",
    "    # prepare training dataset\n",
    "    dataset    = TensorDataset(inputs, outputs)\n",
    "    dataloader = DataLoader(dataset, batch_size, shuffle=False)\n",
    "\n",
    "    # Instantiate model, loss function and optimizer\n",
    "    model = MLPModel(inputs.shape[1], hidden_layers, hidden_size)\n",
    "    criterion = SquaredHingeLoss(margin)\n",
    "    optimizer = optim.Adam(model.parameters(), lr)\n",
    "\n",
    "    # Initialize early stopping parameters\n",
    "    best_loss = float('inf')\n",
    "    num_bad_epochs = 0\n",
    "\n",
    "    # Training loop\n",
    "    for epoch in range(n_ites):\n",
    "        model.train()\n",
    "        for features, labels in dataloader:\n",
    "            optimizer.zero_grad()\n",
    "            loss = criterion(model(features), labels)\n",
    "            loss.backward()\n",
    "            optimizer.step()\n",
    "\n",
    "        # Calculate validation loss\n",
    "        model.eval()\n",
    "        val_loss = criterion(model(inputs), outputs)\n",
    "        if verbose==1:\n",
    "            if epoch % epoch_step == 0:\n",
    "                print(f\"{epoch}, loss: {val_loss}\")\n",
    "\n",
    "        # Check for early stopping\n",
    "        if val_loss < best_loss:\n",
    "            best_loss = val_loss\n",
    "            num_bad_epochs = 0\n",
    "        else:\n",
    "            num_bad_epochs += 1\n",
    "            if num_bad_epochs >= patience:\n",
    "                if verbose==1:\n",
    "                    print(f\"Stopping early at epoch {epoch}, loss: {val_loss}\")\n",
    "                break\n",
    "        \n",
    "    return model, val_loss.item()"
   ]
  },
  {
   "cell_type": "code",
   "execution_count": 6,
   "metadata": {},
   "outputs": [],
   "source": [
    "def plot_solution(x, y_start, y_end, sol):\n",
    "    plt.scatter(x, y_start, color='r', s=2, label='min.log.lambda')\n",
    "    plt.scatter(x, y_end,   color='b', s=2, label='max.log.lambda')\n",
    "    plt.plot(x, sol)\n",
    "    plt.legend()\n",
    "    plt.grid(True)\n",
    "    plt.show()"
   ]
  },
  {
   "cell_type": "code",
   "execution_count": 7,
   "metadata": {},
   "outputs": [],
   "source": [
    "# PATHs (edit these paths depending on dataset)\n",
    "dataset = 'detailed'\n",
    "\n",
    "# training data\n",
    "fold_path = 'training_data/' + dataset + '/folds.csv'\n",
    "inputs_path = 'training_data/' + dataset + '/inputs.csv'\n",
    "outputs_path = 'training_data/' + dataset + '/outputs.csv'\n",
    "\n",
    "# raw dfs\n",
    "fold = 1\n",
    "fold_df = pd.read_csv(fold_path)\n",
    "inputs_df = pd.read_csv(inputs_path)\n",
    "outputs_df = pd.read_csv(outputs_path)\n",
    "\n",
    "# fold dfs\n",
    "inputs_df = inputs_df[inputs_df['sequenceID'].isin(fold_df[fold_df['fold'] == 1]['sequenceID'])]\n",
    "outputs_df = outputs_df[outputs_df['sequenceID'].isin(fold_df[fold_df['fold'] == 1]['sequenceID'])]\n",
    "\n",
    "# feature engineering transformation\n",
    "loglog = lambda x: np.log(np.log(x))"
   ]
  },
  {
   "cell_type": "code",
   "execution_count": 8,
   "metadata": {},
   "outputs": [],
   "source": [
    "chosen_feature = ['length']\n",
    "f_engineering  = [loglog]"
   ]
  },
  {
   "cell_type": "code",
   "execution_count": 9,
   "metadata": {},
   "outputs": [],
   "source": [
    "x = inputs_df[chosen_feature].to_numpy()\n",
    "x = loglog(x)\n",
    "y_start = outputs_df['min.log.lambda'].to_numpy()\n",
    "y_end   = outputs_df['max.log.lambda'].to_numpy()"
   ]
  },
  {
   "cell_type": "code",
   "execution_count": 10,
   "metadata": {},
   "outputs": [
    {
     "name": "stdout",
     "output_type": "stream",
     "text": [
      "0, loss: 0.4525125026702881\n",
      "100, loss: 0.40050357580184937\n",
      "200, loss: 0.3673129975795746\n",
      "300, loss: 0.34437403082847595\n",
      "400, loss: 0.3301416337490082\n",
      "500, loss: 0.3209601044654846\n",
      "600, loss: 0.3149397373199463\n",
      "700, loss: 0.3110441267490387\n",
      "800, loss: 0.3085189461708069\n",
      "900, loss: 0.30683594942092896\n"
     ]
    },
    {
     "data": {
      "image/png": "[encoded data removed]",
      "text/plain": [
       "<Figure size 640x480 with 1 Axes>"
      ]
     },
     "metadata": {},
     "output_type": "display_data"
    }
   ],
   "source": [
    "model, _ = mlp_training(\n",
    "    inputs_df = inputs_df, \n",
    "    outputs_df = outputs_df, \n",
    "    hidden_layers = 0, \n",
    "    hidden_size = 100, \n",
    "    chosen_feature = ['length'], \n",
    "    f_engineer = [loglog],\n",
    "    normalize = 0,\n",
    "    batch_size = 1,\n",
    "    margin = 1,\n",
    "    n_ites = 1000,\n",
    "    lr = 0.001,\n",
    "    patience = 100,\n",
    "    verbose = 1,\n",
    "    epoch_step = 100)\n",
    "sol = model(torch.Tensor(x)).detach().numpy()\n",
    "plot_solution(x, y_start, y_end, sol)"
   ]
  }
 ],
 "metadata": {
  "kernelspec": {
   "display_name": "Python 3",
   "language": "python",
   "name": "python3"
  },
  "language_info": {
   "codemirror_mode": {
    "name": "ipython",
    "version": 3
   },
   "file_extension": ".py",
   "mimetype": "text/x-python",
   "name": "python",
   "nbconvert_exporter": "python",
   "pygments_lexer": "ipython3",
   "version": "3.11.8"
  }
 },
 "nbformat": 4,
 "nbformat_minor": 2
}
