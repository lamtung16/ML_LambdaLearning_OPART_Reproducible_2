{
 "cells": [
  {
   "cell_type": "code",
   "execution_count": 1,
   "metadata": {},
   "outputs": [],
   "source": [
    "from plotnine import ggplot, aes, geom_point, labs, facet_wrap, geom_vline, theme_minimal, theme, element_text\n",
    "import pandas as pd\n",
    "import ast"
   ]
  },
  {
   "cell_type": "code",
   "execution_count": 2,
   "metadata": {},
   "outputs": [],
   "source": [
    "def get_print_df(df):\n",
    "    df['prefix_method'] = df['n_layer'].apply(lambda x: 'linear' if x == 0 else 'mlp')\n",
    "\n",
    "    # Create the 'method' column using string concatenation\n",
    "    df['method'] = (df['prefix_method'] + \".\" +\n",
    "                    df['n_features'].astype(str))\n",
    "\n",
    "    # Drop the unnecessary columns\n",
    "    new_df = df[['method', 'acc']]\n",
    "    return new_df"
   ]
  },
  {
   "cell_type": "code",
   "execution_count": 3,
   "metadata": {},
   "outputs": [
    {
     "name": "stderr",
     "output_type": "stream",
     "text": [
      "C:\\Users\\nguye\\AppData\\Local\\Packages\\PythonSoftwareFoundation.Python.3.11_qbz5n2kfra8p0\\LocalCache\\local-packages\\Python311\\site-packages\\plotnine\\ggplot.py:587: PlotnineWarning: Saving 8 x 6 in image.\n",
      "C:\\Users\\nguye\\AppData\\Local\\Packages\\PythonSoftwareFoundation.Python.3.11_qbz5n2kfra8p0\\LocalCache\\local-packages\\Python311\\site-packages\\plotnine\\ggplot.py:588: PlotnineWarning: Filename: figures/detailed/feature_engineer_comparison.pdf\n",
      "C:\\Users\\nguye\\AppData\\Local\\Packages\\PythonSoftwareFoundation.Python.3.11_qbz5n2kfra8p0\\LocalCache\\local-packages\\Python311\\site-packages\\plotnine\\ggplot.py:587: PlotnineWarning: Saving 8 x 6 in image.\n",
      "C:\\Users\\nguye\\AppData\\Local\\Packages\\PythonSoftwareFoundation.Python.3.11_qbz5n2kfra8p0\\LocalCache\\local-packages\\Python311\\site-packages\\plotnine\\ggplot.py:588: PlotnineWarning: Filename: figures/detailed/feature_engineer_comparison.jpg\n",
      "C:\\Users\\nguye\\AppData\\Local\\Packages\\PythonSoftwareFoundation.Python.3.11_qbz5n2kfra8p0\\LocalCache\\local-packages\\Python311\\site-packages\\plotnine\\ggplot.py:587: PlotnineWarning: Saving 8 x 6 in image.\n",
      "C:\\Users\\nguye\\AppData\\Local\\Packages\\PythonSoftwareFoundation.Python.3.11_qbz5n2kfra8p0\\LocalCache\\local-packages\\Python311\\site-packages\\plotnine\\ggplot.py:588: PlotnineWarning: Filename: figures/systematic/feature_engineer_comparison.pdf\n",
      "C:\\Users\\nguye\\AppData\\Local\\Packages\\PythonSoftwareFoundation.Python.3.11_qbz5n2kfra8p0\\LocalCache\\local-packages\\Python311\\site-packages\\plotnine\\ggplot.py:587: PlotnineWarning: Saving 8 x 6 in image.\n",
      "C:\\Users\\nguye\\AppData\\Local\\Packages\\PythonSoftwareFoundation.Python.3.11_qbz5n2kfra8p0\\LocalCache\\local-packages\\Python311\\site-packages\\plotnine\\ggplot.py:588: PlotnineWarning: Filename: figures/systematic/feature_engineer_comparison.jpg\n"
     ]
    }
   ],
   "source": [
    "for dataset_name in ['detailed', 'systematic']:\n",
    "\n",
    "    figures_path = 'figures/' + dataset_name + \"/\"\n",
    "    acc_rate_csv_path = 'acc_rate/' + dataset_name + '.csv'\n",
    "\n",
    "    # raw_df\n",
    "    raw_df = pd.read_csv(acc_rate_csv_path)\n",
    "\n",
    "    # create new columns named n_features\n",
    "    new_col = []\n",
    "    for i in range(raw_df.shape[0]):\n",
    "        new_col.append(len(ast.literal_eval(raw_df['features'].to_numpy()[i])))\n",
    "    df_n_features = pd.DataFrame(new_col, columns=['n_features'])\n",
    "\n",
    "    # full df\n",
    "    df = pd.concat([raw_df, df_n_features], axis=1)\n",
    "\n",
    "    # get plot df\n",
    "    df_fold_comparison_list = []\n",
    "    for fold in range(1, 7):\n",
    "        df_fold = df[df['fold']==fold]\n",
    "        df_fold_engineer = df_fold[df_fold['f_engineer']==1]\n",
    "        df_fold_engineer_linear = df_fold_engineer[df_fold_engineer['n_layer'] == 0]\n",
    "        df_fold_engineer_mlp    = df_fold_engineer[df_fold_engineer['n_layer'] != 0]\n",
    "        df_fold_engineer_mlp_1  = df_fold_engineer_mlp[df_fold_engineer_mlp['n_features']==1].sort_values(by='acc', ascending=False).iloc[0:1]\n",
    "        df_fold_engineer_mlp_2  = df_fold_engineer_mlp[df_fold_engineer_mlp['n_features']==2].sort_values(by='acc', ascending=False).iloc[0:1]\n",
    "        df_fold_engineer_mlp_4  = df_fold_engineer_mlp[df_fold_engineer_mlp['n_features']==4].sort_values(by='acc', ascending=False).iloc[0:1]\n",
    "        df_fold_engineer_filtered = pd.concat([df_fold_engineer_linear, df_fold_engineer_mlp_1, df_fold_engineer_mlp_2, df_fold_engineer_mlp_4])\n",
    "        df_fold_engineer_filtered = get_print_df(df_fold_engineer_filtered)\n",
    "        df_fold_engineer_filtered['feature'] = 'feature engineering'\n",
    "\n",
    "        df_fold_rawdata = df_fold[df_fold['f_engineer']!=1]\n",
    "        df_fold_rawdata_linear = df_fold_rawdata[df_fold_rawdata['n_layer'] == 0]\n",
    "        df_fold_rawdata_mlp    = df_fold_rawdata[df_fold_rawdata['n_layer'] != 0]\n",
    "        df_fold_rawdata_mlp_2  = df_fold_rawdata_mlp[df_fold_rawdata_mlp['n_features']==2].sort_values(by='acc', ascending=False).iloc[0:1]\n",
    "        df_fold_rawdata_mlp_3  = df_fold_rawdata_mlp[df_fold_rawdata_mlp['n_features']==3].sort_values(by='acc', ascending=False).iloc[0:1]\n",
    "        df_fold_rawdata_mlp_5  = df_fold_rawdata_mlp[df_fold_rawdata_mlp['n_features']==5].sort_values(by='acc', ascending=False).iloc[0:1]\n",
    "        df_fold_rawdata_filtered = pd.concat([df_fold_rawdata_linear, df_fold_rawdata_mlp_2, df_fold_rawdata_mlp_3, df_fold_rawdata_mlp_5])\n",
    "        df_fold_rawdata_filtered = get_print_df(df_fold_rawdata_filtered)\n",
    "        df_fold_rawdata_filtered['feature'] = 'raw data'\n",
    "\n",
    "        df_fold_total = pd.concat([df_fold_rawdata_filtered, df_fold_engineer_filtered])\n",
    "        df_fold_total['fold'] = 'fold' + str(fold) + '.test'\n",
    "\n",
    "        df_fold_comparison_list.append(df_fold_total)\n",
    "\n",
    "    final_df = pd.concat(df_fold_comparison_list)\n",
    "\n",
    "\n",
    "    # plot\n",
    "    plot_combined = (ggplot(final_df, aes(x='acc', y='method', color='feature')) +\n",
    "                    geom_point(shape=\"D\", size=2) +\n",
    "                    labs(title=\"dataset: \" + dataset_name,\n",
    "                        x=\"accuracy percentage\",\n",
    "                        y=\"method\") +\n",
    "                    facet_wrap('~fold', ncol=3) +\n",
    "                    geom_vline(xintercept=100, color=\"black\", size=1) +\n",
    "                    theme_minimal() +\n",
    "                    theme(legend_position='bottom', text=element_text(size=8)) +\n",
    "                    theme(aspect_ratio=0.7)\n",
    "                    )  # Adjust aspect ratio to decrease the distance between methods\n",
    "\n",
    "    # Displaying the combined plot\n",
    "    plot_combined.save(figures_path + \"feature_engineer_comparison.pdf\", width=8, height=6)\n",
    "    plot_combined.save(figures_path + \"feature_engineer_comparison.jpg\", width=8, height=6)\n"
   ]
  }
 ],
 "metadata": {
  "kernelspec": {
   "display_name": "Python 3",
   "language": "python",
   "name": "python3"
  },
  "language_info": {
   "codemirror_mode": {
    "name": "ipython",
    "version": 3
   },
   "file_extension": ".py",
   "mimetype": "text/x-python",
   "name": "python",
   "nbconvert_exporter": "python",
   "pygments_lexer": "ipython3",
   "version": "3.11.8"
  }
 },
 "nbformat": 4,
 "nbformat_minor": 2
}
