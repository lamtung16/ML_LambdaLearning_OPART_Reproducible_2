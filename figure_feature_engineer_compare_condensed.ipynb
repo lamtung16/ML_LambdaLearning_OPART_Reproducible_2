{
 "cells": [
  {
   "cell_type": "code",
   "execution_count": null,
   "metadata": {},
   "outputs": [],
   "source": [
    "from plotnine import ggplot, aes, geom_point, labs, facet_wrap, geom_vline, theme_minimal, theme, element_text\n",
    "import pandas as pd"
   ]
  },
  {
   "cell_type": "code",
   "execution_count": null,
   "metadata": {},
   "outputs": [],
   "source": [
    "cancer_df = pd.read_csv('acc_rate/cancer_condensed.csv')\n",
    "cancer_df['dataset'] = 'cancer'\n",
    "\n",
    "detailed_df = pd.read_csv('acc_rate/detailed_condensed.csv')\n",
    "detailed_df['dataset'] = 'detailed'\n",
    "\n",
    "systematic_df = pd.read_csv('acc_rate/systematic_condensed.csv')\n",
    "systematic_df['dataset'] = 'systematic'\n",
    "\n",
    "final_df = pd.concat([cancer_df, detailed_df, systematic_df])\n",
    "final_df = final_df[final_df['method'].isin(['mlp.1', 'mlp.2', 'mlp.4'])]\n",
    "\n",
    "# Calculate maximum accuracy for each dataset\n",
    "max_acc_per_dataset = final_df.groupby('dataset')['acc'].max().reset_index()\n",
    "max_acc_per_dataset['acc'] = max_acc_per_dataset['acc'] + 0.5\n",
    "\n",
    "plot_combined = (ggplot(final_df, aes(x='acc', y='method', color='feature')) +\n",
    "                 geom_point(shape=\"D\", size=2) +\n",
    "                 labs(x=\"accuracy percentage\",\n",
    "                      y=\"method\") +\n",
    "                 facet_wrap('~dataset', ncol=final_df['dataset'].nunique(), scales='free_x') +\n",
    "                 theme_minimal() +\n",
    "                 theme(legend_position='bottom', text=element_text(size=8)) +\n",
    "                 theme(aspect_ratio=0.6) +\n",
    "                 geom_vline(data=max_acc_per_dataset, mapping=aes(xintercept='acc'), color='black')\n",
    "                 )\n",
    "\n",
    "print(plot_combined)"
   ]
  },
  {
   "cell_type": "code",
   "execution_count": null,
   "metadata": {},
   "outputs": [],
   "source": [
    "plot_combined.save('figures/all/feature_engineer_compare.pdf', width=5, height=2)\n",
    "plot_combined.save('figures/all/feature_engineer_compare.jpg', width=10, height=4)"
   ]
  }
 ],
 "metadata": {
  "kernelspec": {
   "display_name": "Python 3",
   "language": "python",
   "name": "python3"
  },
  "language_info": {
   "codemirror_mode": {
    "name": "ipython",
    "version": 3
   },
   "file_extension": ".py",
   "mimetype": "text/x-python",
   "name": "python",
   "nbconvert_exporter": "python",
   "pygments_lexer": "ipython3",
   "version": "3.11.8"
  }
 },
 "nbformat": 4,
 "nbformat_minor": 2
}
